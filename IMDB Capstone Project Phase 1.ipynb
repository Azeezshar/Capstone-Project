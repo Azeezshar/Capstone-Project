{
 "cells": [
  {
   "cell_type": "markdown",
   "id": "7e536405",
   "metadata": {},
   "source": [
    "# PHASE 1"
   ]
  },
  {
   "cell_type": "markdown",
   "id": "fb30708f",
   "metadata": {},
   "source": [
    "#### Store the entire data in two different CSV files as per the given fields:\n",
    "\n",
    "The first CSV file data contains :\n",
    "\n",
    "Sno, Movie Name, Director Name, Duration, year, ratings, Metascore\n",
    "\n",
    "Bifurcate the Director field into subfields as per the number of directors of the movie belongs to such as Director1, director2\n",
    "\n",
    "The second CSV file contains the following:\n",
    "\n",
    "Movie Name, stars, votes, Genre, Gross collection, popularity, Certification\n",
    "\n",
    "Bifurcate the stars field into 4 subfields as per the number of stars worked in the movie such as star1, star2, star3, star4\n",
    "\n",
    "Bifurcate the genre into 3 subfields as per the number of genres the movie belongs to such as :\n",
    "\n",
    "Genre1, genre2, genre3"
   ]
  },
  {
   "cell_type": "code",
   "execution_count": 1,
   "id": "551b51ab",
   "metadata": {},
   "outputs": [
    {
     "name": "stdout",
     "output_type": "stream",
     "text": [
      "Requirement already satisfied: selenium in c:\\users\\azeez sharieff\\anaconda3\\lib\\site-packages (4.8.2)\n",
      "Requirement already satisfied: certifi>=2021.10.8 in c:\\users\\azeez sharieff\\anaconda3\\lib\\site-packages (from selenium) (2021.10.8)\n",
      "Requirement already satisfied: trio-websocket~=0.9 in c:\\users\\azeez sharieff\\anaconda3\\lib\\site-packages (from selenium) (0.9.2)\n",
      "Requirement already satisfied: trio~=0.17 in c:\\users\\azeez sharieff\\anaconda3\\lib\\site-packages (from selenium) (0.22.0)\n",
      "Requirement already satisfied: urllib3[socks]~=1.26 in c:\\users\\azeez sharieff\\anaconda3\\lib\\site-packages (from selenium) (1.26.9)\n",
      "Requirement already satisfied: async-generator>=1.9 in c:\\users\\azeez sharieff\\anaconda3\\lib\\site-packages (from trio~=0.17->selenium) (1.10)\n",
      "Requirement already satisfied: sortedcontainers in c:\\users\\azeez sharieff\\anaconda3\\lib\\site-packages (from trio~=0.17->selenium) (2.4.0)\n",
      "Requirement already satisfied: cffi>=1.14 in c:\\users\\azeez sharieff\\anaconda3\\lib\\site-packages (from trio~=0.17->selenium) (1.15.0)\n",
      "Requirement already satisfied: outcome in c:\\users\\azeez sharieff\\anaconda3\\lib\\site-packages (from trio~=0.17->selenium) (1.2.0)\n",
      "Requirement already satisfied: idna in c:\\users\\azeez sharieff\\anaconda3\\lib\\site-packages (from trio~=0.17->selenium) (3.3)\n",
      "Requirement already satisfied: exceptiongroup>=1.0.0rc9 in c:\\users\\azeez sharieff\\anaconda3\\lib\\site-packages (from trio~=0.17->selenium) (1.1.0)\n",
      "Requirement already satisfied: attrs>=19.2.0 in c:\\users\\azeez sharieff\\anaconda3\\lib\\site-packages (from trio~=0.17->selenium) (21.4.0)\n",
      "Requirement already satisfied: sniffio in c:\\users\\azeez sharieff\\anaconda3\\lib\\site-packages (from trio~=0.17->selenium) (1.2.0)\n",
      "Requirement already satisfied: pycparser in c:\\users\\azeez sharieff\\anaconda3\\lib\\site-packages (from cffi>=1.14->trio~=0.17->selenium) (2.21)\n",
      "Requirement already satisfied: wsproto>=0.14 in c:\\users\\azeez sharieff\\anaconda3\\lib\\site-packages (from trio-websocket~=0.9->selenium) (1.2.0)\n",
      "Requirement already satisfied: PySocks!=1.5.7,<2.0,>=1.5.6 in c:\\users\\azeez sharieff\\anaconda3\\lib\\site-packages (from urllib3[socks]~=1.26->selenium) (1.7.1)\n",
      "Requirement already satisfied: h11<1,>=0.9.0 in c:\\users\\azeez sharieff\\anaconda3\\lib\\site-packages (from wsproto>=0.14->trio-websocket~=0.9->selenium) (0.14.0)\n"
     ]
    }
   ],
   "source": [
    "!pip install selenium"
   ]
  },
  {
   "cell_type": "code",
   "execution_count": 2,
   "id": "0c3e6791",
   "metadata": {},
   "outputs": [],
   "source": [
    "#importing the required libraries\n",
    "import selenium\n",
    "import pandas as pd\n",
    "from selenium import webdriver\n",
    "import warnings\n",
    "warnings.filterwarnings('ignore')\n",
    "from selenium.common.exceptions import StaleElementReferenceException, NoSuchElementException\n",
    "from selenium.webdriver.common.by import By\n",
    "import time\n",
    "import numpy as np\n",
    "from time import sleep"
   ]
  },
  {
   "cell_type": "code",
   "execution_count": 3,
   "id": "26d37011",
   "metadata": {},
   "outputs": [],
   "source": [
    "# Lets first connect to the driver \n",
    "driver=webdriver.Chrome(r\"C:\\Users\\Azeez Sharieff\\Downloads\\chromedriver.exe\")\n",
    "\n",
    "# Lets get the link shared at DataTrained Project link\n",
    "driver.get(\"https://www.imdb.com/search/title/?genres=action&sort=user_rating,desc&title_type=feature&num_votes=25000,&pf_rd_m=A2FGELUUNOQJNL&pf_rd_p=f11158cc-b50b-4c4d-b0a2-40b32863395b&pf_rd_r=XZ8X52H1R40B7KG5SNZ9&pf_rd_s=right-6&pf_rd_t=15506&pf_rd_i=top&ref_=chttp_gnr_1\")\n",
    "\n",
    "driver.maximize_window()\n",
    "time.sleep(5)"
   ]
  },
  {
   "cell_type": "code",
   "execution_count": 4,
   "id": "81cea5f3",
   "metadata": {},
   "outputs": [],
   "source": [
    "# Creating empty lists to store Sno, Movie name, year, duration, rating and all_dir\n",
    "s_no=[]\n",
    "movie_name=[]\n",
    "year=[]\n",
    "duration=[]\n",
    "rating=[]\n",
    "all_dir=[]"
   ]
  },
  {
   "cell_type": "code",
   "execution_count": 5,
   "id": "f71bfb99",
   "metadata": {},
   "outputs": [],
   "source": [
    "#scrapping Sno, Movie name, year, duration, rating and all_dir\n",
    "\n",
    "import re # to extract just the year\n",
    "\n",
    "while True:\n",
    "    #serial number\n",
    "    sn = driver.find_elements(By.XPATH, '//h3[@class=\"lister-item-header\"]')\n",
    "    for i in sn:\n",
    "        s = i.text.split(\".\")[0]\n",
    "        s_no.append(s)\n",
    "        \n",
    "    #movie name\n",
    "    mn = driver.find_elements(By.XPATH, '//h3[@class=\"lister-item-header\"]//a')\n",
    "    for i in mn:\n",
    "        movie_name.append(i.text)\n",
    "        \n",
    "    # year\n",
    "    yr_s = driver.find_elements(By.XPATH, '//span[@class=\"lister-item-year text-muted unbold\"]')\n",
    "    for yr in yr_s:\n",
    "        yr_text= yr.text\n",
    "        # Extract the year using regular expression\n",
    "        year_match = re.search(r'\\((\\d{4})\\)', yr_text)\n",
    "        y = year_match.group(1) if year_match else \"Unknown\"\n",
    "        year.append(y)\n",
    "        \n",
    "    # duration\n",
    "    du = driver.find_elements(By.XPATH, '//span[@class=\"runtime\"]')\n",
    "    for i in du:\n",
    "        duration.append(i.text)\n",
    "        \n",
    "    # ratings\n",
    "    ra = driver.find_elements(By.XPATH, '//div[@class=\"inline-block ratings-imdb-rating\"]//strong')\n",
    "    for i in ra:\n",
    "        rating.append(i.text)\n",
    "        \n",
    "    # directors\n",
    "    dir_ = driver.find_elements(By.XPATH, '//p[@class=\"\"]')\n",
    "    for i in dir_:\n",
    "        # Extract the text from the item element\n",
    "        dirr=i.text.split(\"|\")[0].split(\":\")[1]\n",
    "\n",
    "        all_dir.append(dirr)\n",
    "        \n",
    "    try:\n",
    "        # Find the \"Next\" button and click on it\n",
    "        next_button = driver.find_element(By.XPATH, '//a[@class=\"lister-page-next next-page\"]')\n",
    "        next_button.click()\n",
    "        time.sleep(2)\n",
    "    except NoSuchElementException:\n",
    "        break  # Break the loop if the \"Next\" button is not found\n"
   ]
  },
  {
   "cell_type": "code",
   "execution_count": 6,
   "id": "5383ef37",
   "metadata": {},
   "outputs": [
    {
     "name": "stdout",
     "output_type": "stream",
     "text": [
      "1772 1772 1772 1772 1772 1772\n"
     ]
    }
   ],
   "source": [
    "#checking weather all items appended in our lists or not\n",
    "print(len(movie_name),len(s_no),len(year),len(duration),len(rating),len(all_dir))"
   ]
  },
  {
   "cell_type": "code",
   "execution_count": 7,
   "id": "fec393f0",
   "metadata": {},
   "outputs": [],
   "source": [
    "#getting back to first page\n",
    "desired_page = 36\n",
    "\n",
    "for a in range(desired_page - 1):\n",
    "    try:\n",
    "        previous_button = driver.find_element(By.XPATH, '//a[@class=\"lister-page-prev prev-page\"]')\n",
    "        previous_button.click()\n",
    "    except NoSuchElementException:\n",
    "        break"
   ]
  },
  {
   "cell_type": "code",
   "execution_count": 8,
   "id": "b77c7c8e",
   "metadata": {},
   "outputs": [
    {
     "name": "stdout",
     "output_type": "stream",
     "text": [
      "Requirement already satisfied: requests in c:\\users\\azeez sharieff\\anaconda3\\lib\\site-packages (2.27.1)\n",
      "Requirement already satisfied: certifi>=2017.4.17 in c:\\users\\azeez sharieff\\anaconda3\\lib\\site-packages (from requests) (2021.10.8)\n",
      "Requirement already satisfied: urllib3<1.27,>=1.21.1 in c:\\users\\azeez sharieff\\anaconda3\\lib\\site-packages (from requests) (1.26.9)\n",
      "Requirement already satisfied: charset-normalizer~=2.0.0 in c:\\users\\azeez sharieff\\anaconda3\\lib\\site-packages (from requests) (2.0.4)\n",
      "Requirement already satisfied: idna<4,>=2.5 in c:\\users\\azeez sharieff\\anaconda3\\lib\\site-packages (from requests) (3.3)\n",
      "Requirement already satisfied: bs4 in c:\\users\\azeez sharieff\\anaconda3\\lib\\site-packages (0.0.1)\n",
      "Requirement already satisfied: beautifulsoup4 in c:\\users\\azeez sharieff\\anaconda3\\lib\\site-packages (from bs4) (4.11.1)\n",
      "Requirement already satisfied: soupsieve>1.2 in c:\\users\\azeez sharieff\\anaconda3\\lib\\site-packages (from beautifulsoup4->bs4) (2.3.1)\n"
     ]
    }
   ],
   "source": [
    "# Installing bs4 and requests for scrapping the metascore\n",
    "!pip install requests\n",
    "!pip install bs4"
   ]
  },
  {
   "cell_type": "code",
   "execution_count": 9,
   "id": "ead3e8a9",
   "metadata": {},
   "outputs": [],
   "source": [
    "# Importing the required libraries for scrapping Metascore\n",
    "from bs4 import BeautifulSoup\n",
    "import requests"
   ]
  },
  {
   "cell_type": "code",
   "execution_count": 10,
   "id": "044b597f",
   "metadata": {},
   "outputs": [
    {
     "data": {
      "text/plain": [
       "array([   1,   51,  101,  151,  201,  251,  301,  351,  401,  451,  501,\n",
       "        551,  601,  651,  701,  751,  801,  851,  901,  951, 1001, 1051,\n",
       "       1101, 1151, 1201, 1251, 1301, 1351, 1401, 1451, 1501, 1551, 1601,\n",
       "       1651, 1701, 1751, 1801])"
      ]
     },
     "execution_count": 10,
     "metadata": {},
     "output_type": "execute_result"
    }
   ],
   "source": [
    "pages=np.arange(1,1802,50)\n",
    "pages"
   ]
  },
  {
   "cell_type": "code",
   "execution_count": 11,
   "id": "f5697763",
   "metadata": {},
   "outputs": [],
   "source": [
    "#creating empty list to store metascore\n",
    "metascore=[]\n",
    "\n",
    "for page in pages:\n",
    "    page=requests.get(\"https://www.imdb.com/search/title/?title_type=feature&num_votes=25000,&genres=action&sort=user_rating,desc&start=\"+str(page)+\"&ref_=adv_nxt\")\n",
    "    soup=BeautifulSoup(page.text,'html.parser')\n",
    "    \n",
    "    movie_data=soup.findAll('div',class_='lister-item mode-advanced')\n",
    "    time.sleep(5)\n",
    "    \n",
    "    for store in movie_data:\n",
    "        meta=store.find('span',class_=\"metascore\").text if store.find('span',class_=\"metascore\") else \"N/A\"\n",
    "        metascore.append(meta)"
   ]
  },
  {
   "cell_type": "code",
   "execution_count": 12,
   "id": "20f91f8d",
   "metadata": {},
   "outputs": [
    {
     "name": "stdout",
     "output_type": "stream",
     "text": [
      "1772\n"
     ]
    }
   ],
   "source": [
    "#checking weather all items appended in list or not\n",
    "print(len(metascore))"
   ]
  },
  {
   "cell_type": "code",
   "execution_count": 13,
   "id": "d34d53e4",
   "metadata": {},
   "outputs": [
    {
     "name": "stdout",
     "output_type": "stream",
     "text": [
      "['84        ', '94        ', '86        ', '74        ', '92        ', '87        ', '73        ', '82        ', 'N/A', '75        ', '90        ', '98        ', '85        ', 'N/A', '67        ', '64        ', '85        ', '87        ', '78        ', '78        ', '84        ', '77        ', '68        ', 'N/A', 'N/A', '78        ', '76        ', '58        ', '76        ', '98        ', 'N/A', 'N/A', 'N/A', 'N/A', 'N/A', 'N/A', '65        ', '68        ', '70        ', '71        ', '78        ', '72        ', '69        ', '62        ', '97        ', '72        ', 'N/A', '89        ', '93        ', 'N/A', 'N/A', 'N/A', 'N/A', 'N/A', 'N/A', 'N/A', '64        ', '63        ', '90        ', '84        ', '84        ', '77        ', '81        ', '71        ', '74        ', '66        ', '75        ', '85        ', 'N/A', 'N/A', 'N/A', '89        ', 'N/A', 'N/A', 'N/A', 'N/A', 'N/A', 'N/A', 'N/A', 'N/A', '81        ', '74        ', '81        ', '76        ', '65        ', '76        ', '69        ', '80        ', '90        ', '67        ', '83        ', '59        ', '85        ', 'N/A', '87        ', '75        ', '33        ', 'N/A', '71        ', 'N/A', '64        ', 'N/A', 'N/A', 'N/A', 'N/A', 'N/A', '43        ', '54        ', '83        ', '71        ', '82        ', '79        ', '75        ', '74        ', '81        ', '68        ', '84        ', '60        ', '76        ', '65        ', '94        ', '98        ', '71        ', '85        ', '69        ', '97        ', 'N/A', 'N/A', 'N/A', '78        ', '94        ', '72        ', '81        ', '78        ', '51        ', '76        ', '81        ', '83        ', '65        ', '68        ', '71        ', '47        ', '80        ', '51        ', '87        ', '55        ', '81        ', '75        ', '74        ', '70        ', '82        ', '79        ', '74        ', '67        ', '66        ', '71        ', '77        ', '89        ', 'N/A', '64        ', 'N/A', '65        ', '61        ', '82        ', 'N/A', 'N/A', '86        ', '60        ', '61        ', '74        ', '47        ', '69        ', '65        ', '72        ', '61        ', '76        ', '76        ', '44        ', '83        ', '74        ', '87        ', '73        ', '68        ', '94        ', '86        ', '78        ', '73        ', '87        ', '75        ', '93        ', '77        ', '84        ', 'N/A', '59        ', 'N/A', '90        ', 'N/A', '58        ', 'N/A', 'N/A', 'N/A', '67        ', '56        ', '82        ', '67        ', '52        ', '66        ', '66        ', '86        ', '52        ', '64        ', '70        ', '78        ', '56        ', '68        ', '80        ', '74        ', '73        ', '68        ', '83        ', '80        ', '73        ', '82        ', '57        ', '77        ', '68        ', '58        ', '79        ', '73        ', '68        ', '72        ', '62        ', '81        ', '90        ', '62        ', '71        ', '76        ', 'N/A', '63        ', '68        ', 'N/A', '70        ', 'N/A', '66        ', '72        ', 'N/A', '65        ', 'N/A', 'N/A', '63        ', '57        ', '69        ', '71        ', '76        ', '67        ', '69        ', '71        ', '74        ', '65        ', '60        ', '58        ', '60        ', '81        ', '71        ', '72        ', '53        ', '81        ', '74        ', '59        ', '77        ', '78        ', '72        ', '72        ', '78        ', '46        ', '78        ', '67        ', '84        ', '89        ', '58        ', '74        ', 'N/A', '66        ', '75        ', '71        ', 'N/A', 'N/A', '69        ', 'N/A', '75        ', '73        ', '64        ', '70        ', '68        ', '73        ', '73        ', '67        ', '73        ', '64        ', '75        ', '76        ', '82        ', '71        ', '53        ', '69        ', '69        ', '58        ', '83        ', '68        ', '67        ', '84        ', '34        ', '82        ', '81        ', '82        ', '71        ', '48        ', '65        ', '78        ', 'N/A', '68        ', '63        ', '72        ', '72        ', '69        ', '49        ', '68        ', '72        ', '52        ', '60        ', '71        ', '53        ', '64        ', '63        ', '88        ', '59        ', '48        ', '66        ', '64        ', '78        ', '72        ', '82        ', '66        ', '75        ', '73        ', '74        ', '41        ', '66        ', '63        ', '33        ', '55        ', '51        ', '67        ', '57        ', '81        ', '83        ', '75        ', '68        ', '52        ', '66        ', '69        ', '62        ', '73        ', '76        ', '74        ', '71        ', '68        ', '56        ', '69        ', '73        ', '89        ', '80        ', 'N/A', '82        ', '60        ', '76        ', 'N/A', '68        ', '72        ', '48        ', '63        ', '56        ', '57        ', '59        ', '63        ', '65        ', '69        ', '59        ', '69        ', '81        ', '53        ', '74        ', '62        ', '62        ', '65        ', 'N/A', '55        ', '59        ', '75        ', '47        ', '78        ', '70        ', '53        ', '70        ', '67        ', '55        ', '64        ', '67        ', '64        ', '58        ', '74        ', '67        ', '58        ', '43        ', '65        ', '72        ', '70        ', '65        ', '75        ', '61        ', '68        ', '67        ', '74        ', 'N/A', '58        ', '32        ', '83        ', '55        ', '69        ', 'N/A', 'N/A', 'N/A', 'N/A', '59        ', '57        ', '48        ', '55        ', '71        ', '62        ', '71        ', '57        ', '65        ', '62        ', '67        ', '68        ', '50        ', '77        ', '84        ', '47        ', '53        ', '69        ', '59        ', '56        ', '60        ', '76        ', '64        ', '66        ', '68        ', '59        ', '56        ', '55        ', '70        ', '60        ', '66        ', '65        ', '67        ', '77        ', '79        ', '63        ', '79        ', '82        ', '58        ', '75        ', '46        ', '69        ', 'N/A', '62        ', '71        ', '66        ', '66        ', 'N/A', '70        ', '56        ', '74        ', 'N/A', 'N/A', '64        ', 'N/A', 'N/A', 'N/A', 'N/A', '62        ', 'N/A', 'N/A', '56        ', '68        ', '61        ', '82        ', '50        ', '59        ', '60        ', '63        ', 'N/A', '68        ', '64        ', '57        ', '71        ', '54        ', '42        ', '61        ', '72        ', '69        ', '50        ', '24        ', '68        ', '42        ', '61        ', '64        ', 'N/A', '75        ', '60        ', '52        ', '70        ', 'N/A', '50        ', '62        ', '71        ', '78        ', '60        ', '70        ', '49        ', '71        ', '46        ', '55        ', '49        ', '56        ', '66        ', '55        ', '57        ', '69        ', '78        ', '62        ', '57        ', '56        ', '63        ', '79        ', '58        ', '62        ', '55        ', '60        ', 'N/A', '78        ', '57        ', '66        ', '69        ', '52        ', '70        ', '49        ', 'N/A', 'N/A', 'N/A', '70        ', 'N/A', 'N/A', 'N/A', '66        ', '70        ', '50        ', '60        ', '60        ', '54        ', '66        ', '77        ', '58        ', '43        ', '59        ', '52        ', '65        ', '81        ', '78        ', '74        ', '52        ', '56        ', '62        ', '66        ', '66        ', '48        ', '51        ', '56        ', '84        ', '57        ', '63        ', '47        ', '40        ', '77        ', '52        ', '53        ', '59        ', '63        ', '59        ', '64        ', '64        ', '47        ', '57        ', '51        ', '56        ', '71        ', '66        ', '82        ', 'N/A', 'N/A', '69        ', '43        ', '72        ', '61        ', '53        ', '53        ', '64        ', '87        ', '60        ', '59        ', 'N/A', '60        ', 'N/A', 'N/A', '61        ', '66        ', '58        ', '56        ', '64        ', '64        ', '58        ', '55        ', '60        ', '73        ', '57        ', '49        ', '63        ', '58        ', '50        ', '65        ', '41        ', '64        ', '64        ', '47        ', '67        ', '72        ', '53        ', '54        ', '29        ', '44        ', '50        ', '60        ', '69        ', 'N/A', '54        ', '51        ', '73        ', 'N/A', '56        ', '83        ', '53        ', '71        ', '41        ', '56        ', '61        ', '66        ', '49        ', '55        ', '71        ', '63        ', '49        ', '59        ', '76        ', '56        ', '73        ', '59        ', 'N/A', '59        ', '68        ', '67        ', '66        ', '53        ', '51        ', '42        ', '36        ', '49        ', '58        ', '44        ', '67        ', '55        ', '47        ', '64        ', '62        ', '55        ', '51        ', '50        ', '41        ', '32        ', '63        ', '61        ', '48        ', '70        ', '47        ', '45        ', '50        ', '54        ', '38        ', '55        ', '34        ', '52        ', '48        ', '47        ', '52        ', '58        ', '28        ', '36        ', '48        ', '40        ', '55        ', '61        ', '59        ', '76        ', '40        ', '51        ', '63        ', '43        ', '61        ', '55        ', '64        ', '38        ', '75        ', '47        ', '64        ', '66        ', '49        ', '52        ', '58        ', '58        ', '60        ', '36        ', '66        ', '61        ', '64        ', '54        ', '43        ', '71        ', 'N/A', '64        ', '43        ', '41        ', '56        ', '48        ', 'N/A', '60        ', '69        ', 'N/A', '55        ', 'N/A', '35        ', '48        ', '61        ', '53        ', '64        ', '45        ', '40        ', '64        ', '50        ', '56        ', '61        ', '68        ', '53        ', '75        ', '54        ', '58        ', '58        ', '51        ', '43        ', '58        ', '68        ', '45        ', '51        ', '33        ', '38        ', '61        ', '43        ', '64        ', '53        ', '50        ', '38        ', '59        ', '53        ', '61        ', '56        ', '77        ', '42        ', '59        ', '60        ', '51        ', '58        ', '62        ', '60        ', '49        ', '61        ', '37        ', '60        ', '65        ', '48        ', '68        ', '56        ', '56        ', '74        ', '47        ', '63        ', '64        ', '51        ', '48        ', '52        ', '55        ', '40        ', '62        ', '53        ', '77        ', '56        ', '60        ', '48        ', '59        ', '56        ', '56        ', '55        ', '51        ', '67        ', '49        ', '52        ', '62        ', '58        ', '65        ', '40        ', '63        ', 'N/A', 'N/A', '53        ', 'N/A', '62        ', '49        ', '39        ', '53        ', '50        ', '59        ', '51        ', '47        ', '63        ', '46        ', '73        ', '40        ', '65        ', '47        ', '73        ', '45        ', '68        ', '47        ', '41        ', '60        ', '55        ', '61        ', '54        ', '59        ', '61        ', '47        ', '40        ', '82        ', '49        ', '52        ', '44        ', '58        ', '49        ', '53        ', '59        ', '46        ', '47        ', '52        ', '41        ', '56        ', '35        ', '61        ', '54        ', '60        ', '39        ', '48        ', '47        ', '62        ', '32        ', '49        ', '59        ', '58        ', '58        ', '62        ', '34        ', '57        ', '48        ', '55        ', '48        ', '29        ', '66        ', '57        ', '73        ', '60        ', '44        ', '62        ', '44        ', '52        ', '71        ', '47        ', '64        ', '49        ', '66        ', '60        ', '47        ', 'N/A', 'N/A', 'N/A', '64        ', 'N/A', '44        ', '48        ', '48        ', '61        ', '51        ', '59        ', '62        ', '33        ', '45        ', '49        ', '64        ', '49        ', '45        ', '45        ', '45        ', '44        ', '60        ', '57        ', '81        ', '59        ', '39        ', '45        ', '43        ', '52        ', '46        ', '65        ', '37        ', '51        ', '49        ', '56        ', 'N/A', '50        ', '41        ', '43        ', '42        ', '49        ', '33        ', '57        ', '67        ', '30        ', '50        ', '40        ', '40        ', '60        ', '49        ', '55        ', '71        ', '44        ', '65        ', '44        ', '51        ', '39        ', '34        ', '48        ', '40        ', '44        ', 'N/A', '49        ', '64        ', '36        ', '66        ', '53        ', '51        ', '49        ', '57        ', '64        ', '56        ', '52        ', '54        ', '64        ', '51        ', '49        ', '56        ', '58        ', 'N/A', '59        ', 'N/A', '41        ', '51        ', '48        ', '41        ', '45        ', '56        ', '52        ', '46        ', '48        ', '44        ', '63        ', '37        ', '59        ', '59        ', '61        ', '52        ', '66        ', '38        ', '19        ', '13        ', '56        ', '59        ', '62        ', '52        ', '41        ', '52        ', '39        ', '53        ', '42        ', '44        ', '46        ', '43        ', '54        ', '43        ', '43        ', '46        ', '46        ', '31        ', '40        ', '32        ', '29        ', '56        ', '46        ', '59        ', 'N/A', '29        ', '51        ', '56        ', 'N/A', '45        ', '31        ', '43        ', '36        ', '54        ', '52        ', '45        ', '25        ', '61        ', '46        ', '62        ', '46        ', '34        ', '52        ', '57        ', '59        ', '46        ', '32        ', '58        ', '39        ', '54        ', '51        ', 'N/A', 'N/A', '45        ', 'N/A', '23        ', '69        ', '31        ', 'N/A', '42        ', '65        ', '57        ', '42        ', '54        ', '44        ', '43        ', '69        ', '40        ', '42        ', '61        ', '44        ', '49        ', '66        ', '39        ', '63        ', '61        ', '48        ', '44        ', '57        ', '35        ', 'N/A', '48        ', '41        ', '51        ', '68        ', '42        ', '62        ', '53        ', '40        ', '28        ', '50        ', '28        ', '47        ', '40        ', '39        ', '71        ', '56        ', '42        ', 'N/A', '40        ', '41        ', '67        ', '49        ', '40        ', '57        ', '45        ', '63        ', '44        ', 'N/A', '57        ', '45        ', '43        ', '61        ', '46        ', '42        ', '42        ', '43        ', '58        ', '42        ', '45        ', '44        ', '63        ', '41        ', '58        ', '50        ', '41        ', 'N/A', '24        ', '42        ', '55        ', '14        ', '30        ', '59        ', '38        ', '27        ', '35        ', '62        ', '36        ', '53        ', '30        ', '56        ', '38        ', 'N/A', 'N/A', 'N/A', '47        ', 'N/A', '45        ', 'N/A', '59        ', '48        ', '45        ', '44        ', '45        ', '60        ', '60        ', '55        ', '35        ', '57        ', '72        ', '41        ', '58        ', '51        ', '44        ', '41        ', '47        ', '43        ', '60        ', '51        ', '47        ', '32        ', '52        ', '60        ', '43        ', '35        ', '23        ', '51        ', '68        ', '56        ', '29        ', '55        ', '26        ', '50        ', '45        ', '36        ', '35        ', '63        ', '60        ', '47        ', '38        ', '37        ', '61        ', '48        ', '46        ', '65        ', '35        ', 'N/A', '36        ', '49        ', '43        ', '41        ', 'N/A', '35        ', '61        ', '48        ', '37        ', '35        ', '53        ', '51        ', '42        ', '42        ', '50        ', '64        ', '50        ', '53        ', '65        ', '52        ', '38        ', '49        ', '49        ', '38        ', '42        ', '50        ', '48        ', 'N/A', '37        ', '58        ', '49        ', '46        ', '55        ', '59        ', '54        ', '49        ', '45        ', '47        ', '34        ', '38        ', '31        ', '49        ', 'N/A', 'N/A', 'N/A', '47        ', '46        ', '35        ', '45        ', '33        ', '38        ', '66        ', '52        ', '46        ', '48        ', '47        ', '42        ', '45        ', '45        ', '50        ', '52        ', '37        ', '43        ', '51        ', '40        ', '41        ', '62        ', '59        ', '26        ', '51        ', '55        ', '28        ', '61        ', '46        ', '57        ', '55        ', '50        ', '54        ', 'N/A', '46        ', '37        ', '51        ', 'N/A', '36        ', '50        ', 'N/A', '48        ', '43        ', '45        ', '50        ', '40        ', '31        ', 'N/A', '52        ', 'N/A', '23        ', '34        ', '36        ', 'N/A', '44        ', '52        ', 'N/A', '56        ', '47        ', '40        ', '35        ', '54        ', '49        ', '30        ', '38        ', '42        ', '31        ', '40        ', '42        ', '45        ', '51        ', '36        ', '48        ', '44        ', '53        ', '48        ', '49        ', '28        ', '47        ', '34        ', '34        ', '42        ', '61        ', '51        ', 'N/A', '48        ', '50        ', '51        ', '47        ', '57        ', '52        ', '44        ', '32        ', '37        ', '30        ', '36        ', '25        ', '35        ', '46        ', '69        ', '41        ', '42        ', '40        ', '44        ', '32        ', '21        ', '48        ', '23        ', '37        ', '36        ', '34        ', 'N/A', '34        ', '41        ', '57        ', '45        ', '68        ', '31        ', '49        ', '66        ', '49        ', '39        ', '30        ', '51        ', '34        ', '52        ', '57        ', '49        ', '60        ', '25        ', '38        ', '24        ', '48        ', '40        ', '33        ', '41        ', '62        ', '34        ', '36        ', '45        ', '40        ', '42        ', '33        ', '34        ', '27        ', '35        ', '41        ', '39        ', '33        ', '49        ', '48        ', '67        ', '44        ', '36        ', '37        ', '39        ', '45        ', '37        ', '43        ', '36        ', 'N/A', '30        ', 'N/A', '63        ', '44        ', '41        ', '48        ', '32        ', '43        ', '41        ', '50        ', '37        ', '65        ', '38        ', '45        ', '38        ', '40        ', '39        ', '35        ', '33        ', '50        ', '41        ', '44        ', '38        ', '48        ', '33        ', '29        ', '37        ', '28        ', '36        ', '27        ', '37        ', '17        ', '23        ', '37        ', '22        ', 'N/A', '41        ', '54        ', '41        ', '52        ', '41        ', '38        ', '37        ', '49        ', '52        ', '44        ', '48        ', '51        ', '34        ', '41        ', '51        ', 'N/A', '41        ', '30        ', '50        ', 'N/A', '46        ', '38        ', '32        ', '45        ', '54        ', '27        ', '52        ', '54        ', '54        ', '38        ', 'N/A', '44        ', '71        ', '40        ', '25        ', '36        ', '34        ', '29        ', '40        ', '57        ', '45        ', '30        ', '36        ', '40        ', 'N/A', '48        ', '44        ', '41        ', 'N/A', '28        ', '63        ', '42        ', '28        ', '41        ', '46        ', '40        ', '43        ', 'N/A', '40        ', '38        ', '34        ', '39        ', '37        ', 'N/A', '43        ', '31        ', '36        ', '24        ', '61        ', 'N/A', 'N/A', 'N/A', '37        ', '46        ', '39        ', '54        ', '45        ', '44        ', '28        ', '53        ', '58        ', '53        ', '37        ', '48        ', '55        ', '31        ', '22        ', '41        ', '26        ', '51        ', '46        ', '49        ', '27        ', '30        ', '16        ', '43        ', '52        ', '39        ', '43        ', '33        ', '27        ', '43        ', '27        ', 'N/A', '31        ', '33        ', '32        ', 'N/A', 'N/A', 'N/A', '40        ', '34        ', '51        ', '60        ', '25        ', '32        ', '43        ', '39        ', '46        ', '53        ', '32        ', '24        ', '44        ', '21        ', '53        ', '36        ', '51        ', '28        ', '51        ', '31        ', '37        ', '45        ', '27        ', '30        ', 'N/A', '29        ', '40        ', '58        ', '40        ', '35        ', '25        ', '61        ', '35        ', '48        ', '32        ', '32        ', '43        ', '42        ', '21        ', '35        ', '40        ', '36        ', '34        ', '22        ', '31        ', '31        ', '39        ', '66        ', '32        ', '22        ', '24        ', '25        ', '47        ', '28        ', '70        ', 'N/A', '27        ', '58        ', '19        ', '32        ', '35        ', '31        ', '47        ', '31        ', '42        ', '44        ', '62        ', '33        ', '28        ', '34        ', '34        ', '42        ', '40        ', '39        ', '33        ', '54        ', '38        ', '32        ', '30        ', 'N/A', 'N/A', '41        ', '58        ', '36        ', '35        ', '34        ', '38        ', '47        ', '31        ', '41        ', '25        ', '35        ', '30        ', '34        ', '41        ', '42        ', '24        ', 'N/A', '52        ', '44        ', '36        ', '66        ', '53        ', '24        ', '17        ', '19        ', 'N/A', '28        ', '48        ', '38        ', '37        ', '26        ', '18        ', '22        ', '35        ', 'N/A', 'N/A', '38        ', '18        ', 'N/A', '33        ', '40        ', '44        ', 'N/A', '37        ', '24        ', '28        ', 'N/A', '34        ', '30        ', '34        ', '33        ', '45        ', '40        ', '45        ', '60        ', 'N/A', '41        ', '33        ', '51        ', 'N/A', '29        ', '29        ', '26        ', '34        ', '36        ', '27        ', 'N/A', '16        ', '19        ', '37        ', '25        ', '38        ', '13        ', 'N/A', '22        ', '27        ', '57        ', '34        ', '18        ', '36        ', '31        ', '22        ', '24        ', 'N/A', '41        ', '40        ', '20        ', '34        ', '22        ', 'N/A', '23        ', '12        ', '28        ', '12        ', '15        ', '38        ', '24        ', '14        ', '11        ', 'N/A', '40        ', '37        ', '33        ', '27        ', '12        ', 'N/A', '14        ', '18        ', 'N/A', 'N/A', '45        ', '9        ', 'N/A', 'N/A', '9        ', 'N/A', '15        ', 'N/A', 'N/A', 'N/A', 'N/A', 'N/A']\n"
     ]
    }
   ],
   "source": [
    "print(metascore)"
   ]
  },
  {
   "cell_type": "code",
   "execution_count": 14,
   "id": "49dbf0cc",
   "metadata": {},
   "outputs": [],
   "source": [
    "#getting back to first page\n",
    "desired_page = 36\n",
    "\n",
    "for a in range(desired_page - 1):\n",
    "    try:\n",
    "        previous_button = driver.find_element(By.XPATH, '//a[@class=\"lister-page-prev prev-page\"]')\n",
    "        previous_button.click()\n",
    "    except NoSuchElementException:\n",
    "        break"
   ]
  },
  {
   "cell_type": "code",
   "execution_count": 15,
   "id": "be32da2e",
   "metadata": {},
   "outputs": [
    {
     "name": "stdout",
     "output_type": "stream",
     "text": [
      "Maximum number of values in a row: 6\n"
     ]
    }
   ],
   "source": [
    "#checking maximum number of directors in one movie\n",
    "max_values = 0\n",
    "\n",
    "for row in all_dir:\n",
    "    values = row.split(\",\")\n",
    "    num_values = len(values)\n",
    "    if num_values > max_values:\n",
    "        max_values = num_values\n",
    "\n",
    "print(\"Maximum number of values in a row:\", max_values)"
   ]
  },
  {
   "cell_type": "code",
   "execution_count": 16,
   "id": "e8c1b7a5",
   "metadata": {},
   "outputs": [],
   "source": [
    "#as we can see we have maximum of 6 directors in any movie, so lets create 6 empty lists to store them\n",
    "dir_1=[]\n",
    "dir_2=[]\n",
    "dir_3=[]\n",
    "dir_4=[]\n",
    "dir_5=[]\n",
    "dir_6=[]\n",
    "\n",
    "#scrapping directors\n",
    "while True:\n",
    "    dire = driver.find_elements(By.XPATH, '//p[@class=\"\"]')\n",
    "    for i in dire:\n",
    "        # Extract the text from the item element\n",
    "        dirr=i.text.split(\"|\")[0].split(\":\")[1].split(\",\")\n",
    "        \n",
    "        dir1=dirr[0]\n",
    "        dir_1.append(dir1)\n",
    "        \n",
    "        dir2=dirr[1] if len(dirr)>1 else 'N/A'\n",
    "        dir_2.append(dir2)\n",
    "        \n",
    "        dir3=dirr[2] if len(dirr)>2 else 'N/A'\n",
    "        dir_3.append(dir3)\n",
    "        \n",
    "        dir4=dirr[3] if len(dirr)>3 else 'N/A'\n",
    "        dir_4.append(dir4)\n",
    "        \n",
    "        dir5=dirr[4] if len(dirr)>4 else 'N/A'\n",
    "        dir_5.append(dir5)\n",
    "        \n",
    "        dir6=dirr[5] if len(dirr)>5 else 'N/A'\n",
    "        dir_6.append(dir6)\n",
    "        \n",
    "        \n",
    "    try:\n",
    "        # Find the \"Next\" button and click on it\n",
    "        next_button = driver.find_element(By.XPATH, '//a[@class=\"lister-page-next next-page\"]')\n",
    "        next_button.click()\n",
    "        time.sleep(2)\n",
    "    except NoSuchElementException:\n",
    "        break  # Break the loop if the \"Next\" button is not found"
   ]
  },
  {
   "cell_type": "code",
   "execution_count": 17,
   "id": "8e849c5f",
   "metadata": {},
   "outputs": [
    {
     "name": "stdout",
     "output_type": "stream",
     "text": [
      "1772 1772 1772 1772 1772 1772\n"
     ]
    }
   ],
   "source": [
    "#checking weather all items appended in list or not\n",
    "print(len(dir_1),len(dir_2),len(dir_3),len(dir_4),len(dir_5),len(dir_6))"
   ]
  },
  {
   "cell_type": "code",
   "execution_count": 18,
   "id": "cc1d4374",
   "metadata": {},
   "outputs": [
    {
     "data": {
      "text/html": [
       "<div>\n",
       "<style scoped>\n",
       "    .dataframe tbody tr th:only-of-type {\n",
       "        vertical-align: middle;\n",
       "    }\n",
       "\n",
       "    .dataframe tbody tr th {\n",
       "        vertical-align: top;\n",
       "    }\n",
       "\n",
       "    .dataframe thead th {\n",
       "        text-align: right;\n",
       "    }\n",
       "</style>\n",
       "<table border=\"1\" class=\"dataframe\">\n",
       "  <thead>\n",
       "    <tr style=\"text-align: right;\">\n",
       "      <th></th>\n",
       "      <th>Serial no.</th>\n",
       "      <th>Movie Name</th>\n",
       "      <th>Director 1</th>\n",
       "      <th>Director 2</th>\n",
       "      <th>Director 3</th>\n",
       "      <th>Director 4</th>\n",
       "      <th>Director 5</th>\n",
       "      <th>Director 6</th>\n",
       "      <th>Duration</th>\n",
       "      <th>Year of Release</th>\n",
       "      <th>Ratings</th>\n",
       "      <th>Metascore</th>\n",
       "    </tr>\n",
       "  </thead>\n",
       "  <tbody>\n",
       "    <tr>\n",
       "      <th>0</th>\n",
       "      <td>1</td>\n",
       "      <td>The Dark Knight</td>\n",
       "      <td>Christopher Nolan</td>\n",
       "      <td>N/A</td>\n",
       "      <td>N/A</td>\n",
       "      <td>N/A</td>\n",
       "      <td>N/A</td>\n",
       "      <td>N/A</td>\n",
       "      <td>152 min</td>\n",
       "      <td>2008</td>\n",
       "      <td>9.0</td>\n",
       "      <td>84</td>\n",
       "    </tr>\n",
       "    <tr>\n",
       "      <th>1</th>\n",
       "      <td>2</td>\n",
       "      <td>The Lord of the Rings: The Return of the King</td>\n",
       "      <td>Peter Jackson</td>\n",
       "      <td>N/A</td>\n",
       "      <td>N/A</td>\n",
       "      <td>N/A</td>\n",
       "      <td>N/A</td>\n",
       "      <td>N/A</td>\n",
       "      <td>201 min</td>\n",
       "      <td>2003</td>\n",
       "      <td>9.0</td>\n",
       "      <td>94</td>\n",
       "    </tr>\n",
       "    <tr>\n",
       "      <th>2</th>\n",
       "      <td>3</td>\n",
       "      <td>Spider-Man: Across the Spider-Verse</td>\n",
       "      <td>Joaquim Dos Santos</td>\n",
       "      <td>Kemp Powers</td>\n",
       "      <td>Justin K. Thompson</td>\n",
       "      <td>N/A</td>\n",
       "      <td>N/A</td>\n",
       "      <td>N/A</td>\n",
       "      <td>140 min</td>\n",
       "      <td>2023</td>\n",
       "      <td>8.9</td>\n",
       "      <td>86</td>\n",
       "    </tr>\n",
       "    <tr>\n",
       "      <th>3</th>\n",
       "      <td>4</td>\n",
       "      <td>Inception</td>\n",
       "      <td>Christopher Nolan</td>\n",
       "      <td>N/A</td>\n",
       "      <td>N/A</td>\n",
       "      <td>N/A</td>\n",
       "      <td>N/A</td>\n",
       "      <td>N/A</td>\n",
       "      <td>148 min</td>\n",
       "      <td>2010</td>\n",
       "      <td>8.8</td>\n",
       "      <td>74</td>\n",
       "    </tr>\n",
       "    <tr>\n",
       "      <th>4</th>\n",
       "      <td>5</td>\n",
       "      <td>The Lord of the Rings: The Fellowship of the Ring</td>\n",
       "      <td>Peter Jackson</td>\n",
       "      <td>N/A</td>\n",
       "      <td>N/A</td>\n",
       "      <td>N/A</td>\n",
       "      <td>N/A</td>\n",
       "      <td>N/A</td>\n",
       "      <td>178 min</td>\n",
       "      <td>2001</td>\n",
       "      <td>8.8</td>\n",
       "      <td>92</td>\n",
       "    </tr>\n",
       "    <tr>\n",
       "      <th>...</th>\n",
       "      <td>...</td>\n",
       "      <td>...</td>\n",
       "      <td>...</td>\n",
       "      <td>...</td>\n",
       "      <td>...</td>\n",
       "      <td>...</td>\n",
       "      <td>...</td>\n",
       "      <td>...</td>\n",
       "      <td>...</td>\n",
       "      <td>...</td>\n",
       "      <td>...</td>\n",
       "      <td>...</td>\n",
       "    </tr>\n",
       "    <tr>\n",
       "      <th>1767</th>\n",
       "      <td>1,768</td>\n",
       "      <td>Radhe</td>\n",
       "      <td>Prabhu Deva</td>\n",
       "      <td>N/A</td>\n",
       "      <td>N/A</td>\n",
       "      <td>N/A</td>\n",
       "      <td>N/A</td>\n",
       "      <td>N/A</td>\n",
       "      <td>109 min</td>\n",
       "      <td>2021</td>\n",
       "      <td>1.9</td>\n",
       "      <td>N/A</td>\n",
       "    </tr>\n",
       "    <tr>\n",
       "      <th>1768</th>\n",
       "      <td>1,769</td>\n",
       "      <td>Race 3</td>\n",
       "      <td>Remo D'Souza</td>\n",
       "      <td>N/A</td>\n",
       "      <td>N/A</td>\n",
       "      <td>N/A</td>\n",
       "      <td>N/A</td>\n",
       "      <td>N/A</td>\n",
       "      <td>160 min</td>\n",
       "      <td>2018</td>\n",
       "      <td>1.9</td>\n",
       "      <td>N/A</td>\n",
       "    </tr>\n",
       "    <tr>\n",
       "      <th>1769</th>\n",
       "      <td>1,770</td>\n",
       "      <td>Angels Apocalypse</td>\n",
       "      <td>Sean Cain</td>\n",
       "      <td>Enzo Zelocchi</td>\n",
       "      <td>N/A</td>\n",
       "      <td>N/A</td>\n",
       "      <td>N/A</td>\n",
       "      <td>N/A</td>\n",
       "      <td>85 min</td>\n",
       "      <td>2015</td>\n",
       "      <td>1.6</td>\n",
       "      <td>N/A</td>\n",
       "    </tr>\n",
       "    <tr>\n",
       "      <th>1770</th>\n",
       "      <td>1,771</td>\n",
       "      <td>The Cost of Deception</td>\n",
       "      <td>Keith English</td>\n",
       "      <td>N/A</td>\n",
       "      <td>N/A</td>\n",
       "      <td>N/A</td>\n",
       "      <td>N/A</td>\n",
       "      <td>N/A</td>\n",
       "      <td>125 min</td>\n",
       "      <td>2021</td>\n",
       "      <td>1.5</td>\n",
       "      <td>N/A</td>\n",
       "    </tr>\n",
       "    <tr>\n",
       "      <th>1771</th>\n",
       "      <td>1,772</td>\n",
       "      <td>Sadak 2</td>\n",
       "      <td>Mahesh Bhatt</td>\n",
       "      <td>N/A</td>\n",
       "      <td>N/A</td>\n",
       "      <td>N/A</td>\n",
       "      <td>N/A</td>\n",
       "      <td>N/A</td>\n",
       "      <td>133 min</td>\n",
       "      <td>2020</td>\n",
       "      <td>1.2</td>\n",
       "      <td>N/A</td>\n",
       "    </tr>\n",
       "  </tbody>\n",
       "</table>\n",
       "<p>1772 rows × 12 columns</p>\n",
       "</div>"
      ],
      "text/plain": [
       "     Serial no.                                         Movie Name  \\\n",
       "0             1                                    The Dark Knight   \n",
       "1             2      The Lord of the Rings: The Return of the King   \n",
       "2             3                Spider-Man: Across the Spider-Verse   \n",
       "3             4                                          Inception   \n",
       "4             5  The Lord of the Rings: The Fellowship of the Ring   \n",
       "...         ...                                                ...   \n",
       "1767      1,768                                              Radhe   \n",
       "1768      1,769                                             Race 3   \n",
       "1769      1,770                                  Angels Apocalypse   \n",
       "1770      1,771                              The Cost of Deception   \n",
       "1771      1,772                                            Sadak 2   \n",
       "\n",
       "               Director 1       Director 2            Director 3 Director 4  \\\n",
       "0      Christopher Nolan               N/A                   N/A        N/A   \n",
       "1          Peter Jackson               N/A                   N/A        N/A   \n",
       "2      Joaquim Dos Santos      Kemp Powers   Justin K. Thompson         N/A   \n",
       "3      Christopher Nolan               N/A                   N/A        N/A   \n",
       "4          Peter Jackson               N/A                   N/A        N/A   \n",
       "...                   ...              ...                   ...        ...   \n",
       "1767         Prabhu Deva               N/A                   N/A        N/A   \n",
       "1768        Remo D'Souza               N/A                   N/A        N/A   \n",
       "1769            Sean Cain   Enzo Zelocchi                    N/A        N/A   \n",
       "1770       Keith English               N/A                   N/A        N/A   \n",
       "1771        Mahesh Bhatt               N/A                   N/A        N/A   \n",
       "\n",
       "     Director 5 Director 6 Duration Year of Release Ratings   Metascore  \n",
       "0           N/A        N/A  152 min            2008     9.0  84          \n",
       "1           N/A        N/A  201 min            2003     9.0  94          \n",
       "2           N/A        N/A  140 min            2023     8.9  86          \n",
       "3           N/A        N/A  148 min            2010     8.8  74          \n",
       "4           N/A        N/A  178 min            2001     8.8  92          \n",
       "...         ...        ...      ...             ...     ...         ...  \n",
       "1767        N/A        N/A  109 min            2021     1.9         N/A  \n",
       "1768        N/A        N/A  160 min            2018     1.9         N/A  \n",
       "1769        N/A        N/A   85 min            2015     1.6         N/A  \n",
       "1770        N/A        N/A  125 min            2021     1.5         N/A  \n",
       "1771        N/A        N/A  133 min            2020     1.2         N/A  \n",
       "\n",
       "[1772 rows x 12 columns]"
      ]
     },
     "execution_count": 18,
     "metadata": {},
     "output_type": "execute_result"
    }
   ],
   "source": [
    "# Creating the 1st DataFrame\n",
    "df_1=pd.DataFrame({'Serial no.':s_no,'Movie Name':movie_name,'Director 1':dir_1,'Director 2':dir_2,'Director 3':dir_3,'Director 4':dir_4,'Director 5':dir_5,'Director 6':dir_6,'Duration':duration,'Year of Release':year,'Ratings':rating,'Metascore':metascore})\n",
    "df_1"
   ]
  },
  {
   "cell_type": "markdown",
   "id": "0b1b6430",
   "metadata": {},
   "source": [
    "### Phase 1 second CSV\n",
    "\n",
    "Movie Name, stars, votes, Genre, Gross collection, popularity, Certification"
   ]
  },
  {
   "cell_type": "code",
   "execution_count": 19,
   "id": "445bfb29",
   "metadata": {},
   "outputs": [],
   "source": [
    "#getting back to first page\n",
    "desired_page = 36\n",
    "\n",
    "for a in range(desired_page - 1):\n",
    "    try:\n",
    "        previous_button = driver.find_element(By.XPATH, '//a[@class=\"lister-page-prev prev-page\"]')\n",
    "        previous_button.click()\n",
    "    except NoSuchElementException:\n",
    "        break"
   ]
  },
  {
   "cell_type": "code",
   "execution_count": 20,
   "id": "cd8c242a",
   "metadata": {},
   "outputs": [],
   "source": [
    "# Creating empty lists to store movie name, Votes and gross collection\n",
    "movie_name=[]\n",
    "votes=[]\n",
    "gross_collection=[]"
   ]
  },
  {
   "cell_type": "code",
   "execution_count": 21,
   "id": "0b593dfe",
   "metadata": {},
   "outputs": [],
   "source": [
    "while True:\n",
    "    #movie name\n",
    "    mn = driver.find_elements(By.XPATH, '//h3[@class=\"lister-item-header\"]//a')\n",
    "    for i in mn:\n",
    "        movie_name.append(i.text)\n",
    "        \n",
    "    vt = driver.find_elements(By.XPATH, '//p[@class=\"sort-num_votes-visible\"]')\n",
    "    for i in vt:\n",
    "        # Extract the text from the item element\n",
    "        votes.append(i.text.split(\":\")[1].split(\"|\")[0])\n",
    "        \n",
    "    gc = driver.find_elements(By.XPATH, '//p[@class=\"sort-num_votes-visible\"]')\n",
    "    for i in gc:\n",
    "        # Extract the text from the item element\n",
    "        gross=i.text.split(\"|\") if i.text.split(\"|\") else \"N/A\"\n",
    "        gross=gross[1].split(\":\")[1] if len(gross)>1 else \"N/A\"\n",
    "        gross_collection.append(gross)\n",
    "        \n",
    "    try:\n",
    "        # Find the \"Next\" button and click on it\n",
    "        next_button = driver.find_element(By.XPATH, '//a[@class=\"lister-page-next next-page\"]')\n",
    "        next_button.click()\n",
    "        time.sleep(2)\n",
    "    except NoSuchElementException:\n",
    "        break  # Break the loop if the \"Next\" button is not found\n"
   ]
  },
  {
   "cell_type": "code",
   "execution_count": 22,
   "id": "fff3e1ee",
   "metadata": {},
   "outputs": [
    {
     "name": "stdout",
     "output_type": "stream",
     "text": [
      "1772 1772 1772\n"
     ]
    }
   ],
   "source": [
    "print(len(movie_name),len(votes),len(gross_collection))"
   ]
  },
  {
   "cell_type": "code",
   "execution_count": 23,
   "id": "17d89a0f",
   "metadata": {},
   "outputs": [],
   "source": [
    "#getting back to first page\n",
    "desired_page = 36\n",
    "\n",
    "for a in range(desired_page - 1):\n",
    "    try:\n",
    "        previous_button = driver.find_element(By.XPATH, '//a[@class=\"lister-page-prev prev-page\"]')\n",
    "        previous_button.click()\n",
    "    except NoSuchElementException:\n",
    "        break"
   ]
  },
  {
   "cell_type": "code",
   "execution_count": 24,
   "id": "f2464872",
   "metadata": {},
   "outputs": [],
   "source": [
    "#creating empty list to store star names\n",
    "stars_name=[]\n",
    "\n",
    "#scrapping directors\n",
    "while True:\n",
    "    stars= driver.find_elements(By.XPATH, '//p[@class=\"\"]')\n",
    "    for i in stars:\n",
    "        # Extract the text from the item element\n",
    "        star=i.text.split(\"|\")[1].split(\":\")[1]\n",
    "\n",
    "        stars_name.append(star)\n",
    "    try:\n",
    "        # Find the \"Next\" button and click on it\n",
    "        next_button = driver.find_element(By.XPATH, '//a[@class=\"lister-page-next next-page\"]')\n",
    "        next_button.click()\n",
    "        time.sleep(2)\n",
    "    except NoSuchElementException:\n",
    "        break  # Break the loop if the \"Next\" button is not found"
   ]
  },
  {
   "cell_type": "code",
   "execution_count": 25,
   "id": "9bc5906a",
   "metadata": {},
   "outputs": [
    {
     "data": {
      "text/plain": [
       "1772"
      ]
     },
     "execution_count": 25,
     "metadata": {},
     "output_type": "execute_result"
    }
   ],
   "source": [
    "#checking weather all elements appended in list or not\n",
    "len(stars_name)"
   ]
  },
  {
   "cell_type": "code",
   "execution_count": 26,
   "id": "2cc183b7",
   "metadata": {},
   "outputs": [],
   "source": [
    "#getting back to first page\n",
    "desired_page = 36\n",
    "\n",
    "for a in range(desired_page - 1):\n",
    "    try:\n",
    "        previous_button = driver.find_element(By.XPATH, '//a[@class=\"lister-page-prev prev-page\"]')\n",
    "        previous_button.click()\n",
    "    except NoSuchElementException:\n",
    "        break"
   ]
  },
  {
   "cell_type": "code",
   "execution_count": 27,
   "id": "6f1f368b",
   "metadata": {},
   "outputs": [
    {
     "name": "stdout",
     "output_type": "stream",
     "text": [
      "Maximum number of values in a row: 4\n"
     ]
    }
   ],
   "source": [
    "max_values = 0\n",
    "\n",
    "for row in stars_name:\n",
    "    values = row.split(\",\")\n",
    "    num_values = len(values)\n",
    "    if num_values > max_values:\n",
    "        max_values = num_values\n",
    "\n",
    "print(\"Maximum number of values in a row:\", max_values)"
   ]
  },
  {
   "cell_type": "code",
   "execution_count": 28,
   "id": "2ab4c7be",
   "metadata": {},
   "outputs": [],
   "source": [
    "#as we can see we have maximum of 4 stars in any movie, so lets create 4 empty lists to store them\n",
    "star_1=[]\n",
    "star_2=[]\n",
    "star_3=[]\n",
    "star_4=[]\n",
    "\n",
    "#scrapping stars\n",
    "while True:\n",
    "    stars= driver.find_elements(By.XPATH, '//p[@class=\"\"]')\n",
    "    for i in stars:\n",
    "        # Extract the text from the item element\n",
    "        star=i.text.split(\"|\")[1].split(\":\")[1].split(\",\")\n",
    "        \n",
    "        star1=star[0]\n",
    "        star_1.append(star1)\n",
    "        \n",
    "        star2=star[1] if len(star)>1 else \"N/A\"\n",
    "        star_2.append(star2)\n",
    "        \n",
    "        star3=star[2] if len(star)>2 else \"N/A\"\n",
    "        star_3.append(star3)\n",
    "        \n",
    "        star4=star[3] if len(star)>3 else \"N/A\"\n",
    "        star_4.append(star4)\n",
    "        \n",
    "    try:\n",
    "        # Find the \"Next\" button and click on it\n",
    "        next_button = driver.find_element(By.XPATH, '//a[@class=\"lister-page-next next-page\"]')\n",
    "        next_button.click()\n",
    "        time.sleep(2)\n",
    "    except NoSuchElementException:\n",
    "        break  # Break the loop if the \"Next\" button is not found"
   ]
  },
  {
   "cell_type": "code",
   "execution_count": 29,
   "id": "979288cf",
   "metadata": {},
   "outputs": [
    {
     "name": "stdout",
     "output_type": "stream",
     "text": [
      "1772\n",
      "1772\n",
      "1772\n",
      "1772\n"
     ]
    }
   ],
   "source": [
    "#checking weather all items appended in list or not\n",
    "print(len(star_1))\n",
    "print(len(star_2))\n",
    "print(len(star_3))\n",
    "print(len(star_4))"
   ]
  },
  {
   "cell_type": "code",
   "execution_count": 30,
   "id": "958e5b3d",
   "metadata": {},
   "outputs": [],
   "source": [
    "#getting back to first page\n",
    "desired_page = 36\n",
    "\n",
    "for a in range(desired_page - 1):\n",
    "    try:\n",
    "        previous_button = driver.find_element(By.XPATH, '//a[@class=\"lister-page-prev prev-page\"]')\n",
    "        previous_button.click()\n",
    "    except NoSuchElementException:\n",
    "        break"
   ]
  },
  {
   "cell_type": "code",
   "execution_count": 31,
   "id": "64f4eea3",
   "metadata": {},
   "outputs": [],
   "source": [
    "#creating empty list to store genre\n",
    "all_genre=[]\n",
    "\n",
    "#scrapping duration\n",
    "while True:\n",
    "    gen = driver.find_elements(By.XPATH, '//span[@class=\"genre\"]')\n",
    "    for i in gen:\n",
    "        # Extract the text from the item element\n",
    "        all_genre.append(i.text)\n",
    "    try:\n",
    "        # Find the \"Next\" button and click on it\n",
    "        next_button = driver.find_element(By.XPATH, '//a[@class=\"lister-page-next next-page\"]')\n",
    "        next_button.click()\n",
    "        time.sleep(2)\n",
    "    except NoSuchElementException:\n",
    "        break  # Break the loop if the \"Next\" button is not found"
   ]
  },
  {
   "cell_type": "code",
   "execution_count": 32,
   "id": "4c791665",
   "metadata": {},
   "outputs": [
    {
     "name": "stdout",
     "output_type": "stream",
     "text": [
      "1772\n"
     ]
    }
   ],
   "source": [
    "#checking weather all items appended in our list or not\n",
    "print(len(all_genre))"
   ]
  },
  {
   "cell_type": "code",
   "execution_count": 33,
   "id": "d44fa40b",
   "metadata": {},
   "outputs": [
    {
     "name": "stdout",
     "output_type": "stream",
     "text": [
      "Maximum number of values in a row: 3\n"
     ]
    }
   ],
   "source": [
    "#checking what is the max number of elements in a row\n",
    "max_values = 0\n",
    "\n",
    "for row in all_genre:\n",
    "    values = row.split(\",\")\n",
    "    num_values = len(values)\n",
    "    if num_values > max_values:\n",
    "        max_values = num_values\n",
    "\n",
    "print(\"Maximum number of values in a row:\", max_values)"
   ]
  },
  {
   "cell_type": "code",
   "execution_count": 34,
   "id": "0e5d8171",
   "metadata": {},
   "outputs": [],
   "source": [
    "#getting back to first page\n",
    "desired_page = 36\n",
    "\n",
    "for _ in range(desired_page - 1):\n",
    "    try:\n",
    "        previous_button = driver.find_element(By.XPATH, '//a[@class=\"lister-page-prev prev-page\"]')\n",
    "        previous_button.click()\n",
    "    except NoSuchElementException:\n",
    "        break"
   ]
  },
  {
   "cell_type": "code",
   "execution_count": 35,
   "id": "53ed82c6",
   "metadata": {},
   "outputs": [],
   "source": [
    "#creating three empty list to store genre as we know we have max of three genres in a movie\n",
    "genre_1=[]\n",
    "genre_2=[]\n",
    "genre_3=[]\n",
    "\n",
    "#scrapping genre\n",
    "while True:\n",
    "    gen = driver.find_elements(By.XPATH, '//span[@class=\"genre\"]')\n",
    "    for i in gen:\n",
    "        # Extract the text from the item element\n",
    "        genre=i.text.split(\",\")\n",
    "        gen_1=genre[0]\n",
    "        genre_1.append(gen_1)\n",
    "        \n",
    "        gen_2=genre[1] if len(genre)>1 else 'N/A'\n",
    "        genre_2.append(gen_2)\n",
    "        \n",
    "        gen_3=genre[2] if len(genre)>2 else 'N/A'\n",
    "        genre_3.append(gen_3)\n",
    "        \n",
    "        \n",
    "    try:\n",
    "        # Find the \"Next\" button and click on it\n",
    "        next_button = driver.find_element(By.XPATH, '//a[@class=\"lister-page-next next-page\"]')\n",
    "        next_button.click()\n",
    "        time.sleep(2)\n",
    "    except NoSuchElementException:\n",
    "        break  # Break the loop if the \"Next\" button is not found"
   ]
  },
  {
   "cell_type": "code",
   "execution_count": 36,
   "id": "74507243",
   "metadata": {},
   "outputs": [
    {
     "name": "stdout",
     "output_type": "stream",
     "text": [
      "1772\n",
      "1772\n",
      "1772\n"
     ]
    }
   ],
   "source": [
    "#checking weather all items appended in our list or not\n",
    "print(len(genre_1))\n",
    "print(len(genre_2))\n",
    "print(len(genre_3))"
   ]
  },
  {
   "cell_type": "code",
   "execution_count": 37,
   "id": "fa0739e7",
   "metadata": {},
   "outputs": [],
   "source": [
    "#getting back to first page\n",
    "desired_page = 36\n",
    "\n",
    "for _ in range(desired_page - 1):\n",
    "    try:\n",
    "        previous_button = driver.find_element(By.XPATH, '//a[@class=\"lister-page-prev prev-page\"]')\n",
    "        previous_button.click()\n",
    "    except NoSuchElementException:\n",
    "        break"
   ]
  },
  {
   "cell_type": "code",
   "execution_count": 38,
   "id": "2b7e2448",
   "metadata": {},
   "outputs": [
    {
     "data": {
      "text/plain": [
       "array([   1,   51,  101,  151,  201,  251,  301,  351,  401,  451,  501,\n",
       "        551,  601,  651,  701,  751,  801,  851,  901,  951, 1001, 1051,\n",
       "       1101, 1151, 1201, 1251, 1301, 1351, 1401, 1451, 1501, 1551, 1601,\n",
       "       1651, 1701, 1751, 1801])"
      ]
     },
     "execution_count": 38,
     "metadata": {},
     "output_type": "execute_result"
    }
   ],
   "source": [
    "pages=np.arange(1,1802,50)\n",
    "pages"
   ]
  },
  {
   "cell_type": "code",
   "execution_count": 39,
   "id": "8020bda7",
   "metadata": {},
   "outputs": [],
   "source": [
    "#creating empty list to store certification\n",
    "certification=[]\n",
    "\n",
    "for page in pages:\n",
    "    page=requests.get(\"https://www.imdb.com/search/title/?title_type=feature&num_votes=25000,&genres=action&sort=user_rating,desc&start=\"+str(page)+\"&ref_=adv_nxt\")\n",
    "    soup=BeautifulSoup(page.text,'html.parser')\n",
    "    \n",
    "    movie_data=soup.findAll('div',class_='lister-item mode-advanced')\n",
    "    time.sleep(5)\n",
    "    \n",
    "    for store in movie_data:\n",
    "        cert=store.find('span',class_=\"certificate\").text if store.find('span',class_=\"certificate\") else \"N/A\"\n",
    "        certification.append(cert)"
   ]
  },
  {
   "cell_type": "code",
   "execution_count": 40,
   "id": "4ed045db",
   "metadata": {},
   "outputs": [
    {
     "name": "stdout",
     "output_type": "stream",
     "text": [
      "1772\n"
     ]
    }
   ],
   "source": [
    "#checking weather all items appended in list or not\n",
    "print(len(certification))"
   ]
  },
  {
   "cell_type": "code",
   "execution_count": 41,
   "id": "a1dbed1c",
   "metadata": {},
   "outputs": [
    {
     "name": "stdout",
     "output_type": "stream",
     "text": [
      "['UA', 'U', 'U', 'UA', 'U', 'UA', 'A', 'UA', 'U', 'A', 'U', 'U', 'N/A', 'U', 'UA', 'A', 'A', 'U', 'UA', 'UA', 'U', 'A', 'UA', 'UA', 'UA', 'UA', 'A', 'U', 'U', 'U', 'U', 'UA', 'UA', 'UA', 'UA', 'UA', 'U', 'UA', 'UA', 'UA', 'R', 'A', 'A', 'UA', 'Not Rated', 'UA', 'UA', 'A', 'U', 'UA', 'UA', 'UA', 'N/A', 'N/A', 'UA', 'UA', 'UA', 'UA', 'UA', 'UA', 'A', 'A', 'UA', 'UA', 'R', 'A', 'U', 'U', 'Not Rated', 'N/A', 'UA', 'N/A', 'N/A', 'UA', 'U', 'UA', 'A', 'U', 'U', 'U', 'UA', 'UA', 'UA', 'UA', 'R', 'A', 'UA', 'UA', 'U', 'Not Rated', 'A', 'R', 'UA', 'UA', 'UA', 'UA', 'R', 'U', 'N/A', 'UA', 'R', 'UA', 'N/A', 'U', 'A', 'UA', 'PG-13', '18', 'UA', 'UA', 'UA', 'UA', 'UA', 'UA', 'A', 'UA', 'A', 'U', 'UA', 'A', 'UA', 'A', 'A', 'UA', 'UA', 'PG', 'UA', 'UA', 'UA', 'A', 'UA', 'UA', 'A', 'A', 'A', 'A', 'A', 'UA', 'UA', 'A', 'UA', 'A', 'U', 'A', 'U', 'UA', 'UA', 'UA', 'PG-13', 'UA', 'UA', 'UA', 'U', 'Not Rated', 'UA 16+', 'U', 'U', 'UA', 'N/A', 'N/A', 'A', 'PG', 'U', 'R', 'N/A', 'UA 16+', 'U/A', 'A', 'UA', 'A', 'UA', 'A', 'UA', 'UA', 'A', 'UA', 'A', 'A', 'U', 'N/A', 'A', 'A', 'U', 'A', 'A', 'UA', 'U', 'A', 'U', 'N/A', 'UA', 'U', '7', 'UA', 'A', 'N/A', 'N/A', 'N/A', 'A', 'UA', 'UA', 'UA', 'A', 'A', 'UA', 'A', 'UA', 'R', 'UA', 'UA', 'A', 'UA', 'UA', '15+', 'UA', 'A', 'U', 'A', 'U', 'A', 'UA', 'A', 'UA', '16', 'UA', 'UA', 'A', 'UA', 'A', 'A', 'UA', 'U', '18', 'UA', 'A', 'PG-13', 'U', 'UA', 'U', 'U', 'UA', 'PG-13', '16', 'Not Rated', 'U', 'A', 'U', 'N/A', 'UA', 'R', '(Banned)', 'U', 'A', 'UA', '18', 'U', 'UA', 'UA', 'UA', 'A', 'U', 'A', 'PG-13', 'A', 'UA', 'A', 'N/A', 'A', 'N/A', 'R', 'A', 'R', 'U', 'U', 'N/A', 'UA', 'R', 'R', 'UA', 'N/A', 'UA', 'N/A', 'A', 'R', 'R', 'UA', 'UA', 'UA', 'N/A', 'UA', 'UA', 'A', '18', 'A', 'U', 'U', 'A', 'A', 'UA', 'A', 'UA', 'U', 'UA', '12+', 'U', '18', 'A', 'U', 'UA', 'U', 'A', 'A', 'UA', 'A', 'UA', 'U', 'UA', 'R', 'N/A', 'N/A', 'U', 'U', 'R', 'UA', 'UA', 'A', 'UA', 'A', 'A', 'U', 'UA', 'UA', 'UA', 'A', 'UA', 'A', 'A', 'UA', 'UA', 'A', '16', 'UA', 'UA', 'U', 'UA', 'U', 'R', 'A', 'U', 'UA', 'A', '18', 'A', '16', 'N/A', 'A', 'UA', 'U', '13', 'U', 'A', 'R', 'UA', 'U', 'UA', 'U', 'U', 'N/A', 'U', 'R', 'A', 'UA', 'UA', 'N/A', 'N/A', 'R', 'UA', 'UA', 'A', 'A', 'A', 'UA', 'A', 'A', 'A', 'UA', 'UA', '18', 'N/A', 'UA', 'UA', 'A', 'R', 'UA', 'A', 'R', 'A', 'R', 'U', 'UA', 'A', 'A', 'A', 'UA', 'R', 'U', 'A', 'U', 'UA', 'U', 'UA', '18', 'U', 'U', 'U', 'U', 'A', 'R', 'A', 'U', 'UA', 'N/A', 'R', 'N/A', 'A', 'A', 'R', 'R', 'R', 'U', 'N/A', 'U', 'UA', 'U', 'A', 'A', 'UA', 'R', 'UA', '16', '16', 'A', 'UA', 'A', 'U', 'UA', 'U', 'A', 'R', 'A', 'UA', 'UA', '7', 'A', 'UA', 'UA', 'UA', 'UA', 'UA', 'UA', 'A', 'U', '18', 'U', 'UA', 'A', 'UA', 'U', 'U', '18', 'UA', 'R', 'UA', 'A', 'R', 'UA 16+', 'Not Rated', '18', 'R', 'PG-13', 'U', 'UA 16+', 'R', 'R', 'UA', 'U', 'R', 'UA', 'U', 'U', 'U', 'R', 'UA', 'N/A', 'UA', 'A', 'UA', 'R', 'UA', 'UA', 'UA', 'UA', 'A', 'UA', 'A', 'UA', 'UA', 'UA', 'U', 'UA', 'UA', 'UA', 'A', 'R', 'UA', 'A', 'UA', 'A', 'A', 'A', 'UA', 'A', 'UA', 'A', 'U', 'UA', 'A', 'UA', 'PG-13', 'A', 'UA', 'Not Rated', 'R', 'A', 'A', 'A', 'UA 7+', 'A', 'A', 'U', 'UA', 'U', 'R', 'A', 'UA', 'R', 'A', 'N/A', 'Not Rated', 'R', 'U', 'U', 'UA', 'U', 'A', 'R', 'R', 'UA', 'A', 'UA', 'UA', 'R', '13', 'UA 13+', 'N/A', 'UA', 'A', 'U', 'A', 'UA', 'UA', '13', 'UA', 'UA', 'A', 'UA', 'R', 'UA', 'UA', 'R', 'UA', 'UA', 'U', 'UA', 'UA', 'A', 'A', 'U', 'U', 'UA', 'UA', 'U', '18', 'U', 'U', 'U', 'N/A', 'A', '13', '18', 'A', 'A', 'A', 'A', 'A', 'UA', 'A', 'A', 'N/A', 'A', '18', '18', 'UA', 'R', 'N/A', 'R', 'U', 'N/A', '(Banned)', 'R', 'N/A', 'R', 'R', 'UA', 'UA', 'PG-13', 'R', 'UA', '18', 'A', 'UA', 'A', 'UA', 'UA', 'U', 'UA', 'U', 'UA', 'UA', 'UA', '13', 'A', 'A', 'UA 13+', 'A', 'Not Rated', 'UA', 'A', 'UA', 'A', 'A', 'UA', 'UA', 'UA', 'N/A', 'U', 'A', '16', 'A', 'N/A', 'U', 'U', 'A', 'UA', 'UA', 'A', 'U', 'UA', 'R', 'UA', 'A', 'PG-13', 'U', 'R', 'R', 'R', 'R', 'UA', 'R', 'UA', 'UA', 'UA', 'UA', 'U', 'UA', 'N/A', 'A', 'UA', 'A', 'U', '13', 'A', 'A', 'UA', 'A', 'A', 'UA', 'A', 'UA', 'A', 'UA', 'UA', '18', '18', 'A', 'R', 'UA', '18', 'A', 'A', 'UA', 'A', 'UA', '18', 'U', 'R', 'R', 'R', 'UA', 'U', 'U', 'UA', 'R', 'A', 'A', 'R', 'A', 'U', 'A', 'R', 'UA', 'R', 'UA', 'A', 'PG-13', 'A', 'A', 'U', 'N/A', 'UA', 'A', 'U', 'R', 'R', 'UA', 'R', 'UA', 'UA', 'N/A', 'R', 'PG-13', 'R', 'R', 'U', 'N/A', 'A', 'R', 'PG-13', 'UA', 'UA', 'UA', 'A', 'A', 'A', 'UA', 'A', 'UA', 'UA', 'UA', 'UA', '13', 'UA', 'R', 'UA', 'UA', 'A', 'UA', 'UA', 'UA', '16', 'R', 'UA', 'A', 'UA', 'UA', 'A', 'U', 'PG-13', 'UA', 'UA', 'UA', 'A', 'A', 'UA', 'UA', 'U', 'U', 'R', 'A', 'UA', 'U', 'A', 'R', 'R', 'A', '18', 'U', 'A', 'R', 'U', 'A', 'U', 'UA', 'UA', 'U', 'N/A', 'UA', 'U', 'R', 'UA', 'UA', 'PG', 'UA', 'A', 'PG-13', 'PG', 'R', 'U', 'U', 'U', 'A', 'R', 'A', 'A', 'R', 'U', 'R', 'A', 'UA', 'UA', 'N/A', 'UA', 'A', 'UA', 'UA 16+', 'UA', 'UA', 'R', 'UA', 'UA', 'U', 'UA', 'UA', 'UA', 'UA', 'UA', '7', 'UA', '13', 'UA', 'U', 'A', 'A', '16', '18', 'A', 'UA', 'UA', 'N/A', '18', 'Not Rated', 'A', 'U', 'U', 'U', 'UA', 'UA', 'A', 'A', 'A', 'UA', 'A', 'A', 'U', 'U', 'UA', 'A', '16', 'A', 'A', 'U', 'A', 'A', 'U', 'UA', 'A', 'U', 'PG-13', 'A', 'U', 'R', 'A', 'A', 'R', 'U', 'PG-13', 'PG-13', 'A', 'U', 'A', 'A', 'N/A', 'PG-13', '16', 'PG-13', 'UA', 'R', 'UA', 'UA', 'UA', 'UA', 'UA', 'N/A', 'UA', 'A', 'A', 'A', 'UA', 'R', 'UA', 'A', '15+', '16', 'UA', 'A', 'A', 'A', 'UA', 'A', 'PG', 'A', '18', 'A', 'UA', 'A', 'U', 'PG-13', 'UA', 'UA', 'UA', 'A', 'UA', 'U', 'R', 'R', 'UA', 'A', 'R', 'UA', 'U', 'R', 'N/A', 'R', 'R', 'R', 'PG', 'U', 'UA', 'UA', 'R', 'R', 'UA', '12+', 'Not Rated', 'R', 'R', 'R', 'UA', 'R', 'UA', 'R', 'UA', 'A', 'R', 'A', 'UA', 'U', 'R', 'R', 'A', 'U', 'A', 'R', 'A', 'R', 'R', 'R', 'R', 'R', 'N/A', 'UA', 'A', 'R', 'U', 'UA', 'UA', 'UA', 'UA', 'UA', '15+', 'UA', '13', 'UA', 'UA', 'UA', 'UA', 'UA', 'UA', '18', 'N/A', 'UA', 'A', 'U', 'U', 'A', 'UA', 'UA', 'U', 'A', 'PG-13', 'UA', 'UA', 'A', 'UA', 'A', 'R', 'UA', 'UA', 'UA', 'Not Rated', '18', 'UA', 'UA', 'A', '16', 'R', 'UA', 'A', '16', '16+', 'A', 'UA', 'UA', 'U', 'R', 'UA', 'R', 'A', 'UA', 'R', 'A', 'R', 'R', 'PG', 'U', 'UA', 'UA', '16', 'A', 'R', 'UA', 'A', '18', 'UA', 'UA', 'R', 'U', 'R', 'UA', 'UA', 'U', 'UA', 'UA', 'UA', 'UA', 'UA', 'UA', 'UA', 'UA', 'U', 'UA', 'UA', 'A', 'UA', 'A', 'U', 'R', 'UA', 'UA', '16', 'UA', '16', 'UA', 'U', 'U', 'UA', 'UA', 'A', 'UA', 'UA', 'UA', 'U', '18', 'A', 'UA', 'U', 'A', 'UA', 'A', 'UA', 'PG', 'UA', '18', 'A', 'R', 'A', 'A', 'A', 'R', 'A', 'R', 'R', 'R', 'N/A', 'A', 'UA', 'A', 'N/A', 'A', 'PG-13', 'A', 'R', 'A', 'UA', 'A', 'A', 'UA', 'R', 'A', 'PG-13', 'PG-13', '18', 'A', 'A', 'R', 'U', 'A', 'R', 'U', 'UA', 'A', 'PG-13', 'UA', 'R', 'R', 'R', 'N/A', 'R', 'UA', 'UA', 'UA', 'UA', 'UA', 'UA', 'UA', 'A', 'UA', 'UA', 'UA', 'U', '18', 'A', 'UA', 'A', 'PG-13', 'UA', 'UA', 'U', 'A', 'A', 'A', 'UA', 'U', 'A', 'UA', 'A', 'UA 16+', 'UA', 'A', 'A', 'U', 'A', 'Not Rated', 'U', 'UA', 'UA', 'U', 'A', 'U', 'A', 'U', 'UA', 'A', 'PG', 'PG-13', 'A', 'A', 'PG-13', 'PG-13', '18', 'R', 'A', 'A', 'A', 'A', 'R', 'A', 'U', 'A', 'R', 'A', 'R', 'U', 'A', 'R', 'U', 'A', 'A', 'A', 'UA', 'A', 'A', 'R', 'R', 'A', 'U', 'UA', 'A', 'UA', 'N/A', '18', 'R', 'U', 'UA', 'A', 'UA', 'R', 'U', 'R', 'UA', 'UA', 'UA', 'UA', 'A', 'UA', 'UA', 'UA', '12', 'R', 'UA', 'A', 'UA', 'U', 'U', 'U', 'PG-13', '13', 'A', 'UA', 'UA', '16', 'A', 'PG-13', 'R', 'UA 16+', 'A', 'U', 'A', 'R', 'N/A', 'PG-13', 'U', 'UA', 'A', 'UA', 'A', 'U', 'R', 'UA', 'U', 'R', 'U', 'PG-13', 'PG-13', 'A', 'A', 'UA', 'R', 'R', 'R', 'R', 'PG-13', 'R', 'R', 'A', 'R', 'U', 'R', 'UA', 'UA', 'UA', 'UA', 'UA', 'A', 'UA', 'UA 13+', 'A', 'PG-13', 'R', 'UA', 'UA', 'UA', 'U', 'UA', '15+', 'UA', 'UA', 'UA', 'U', 'UA', 'U', 'PG-13', 'A', 'A', 'UA', 'PG-13', 'R', 'A', 'UA', 'A', 'UA', 'N/A', 'U', 'UA', 'U', 'U', 'A', 'Not Rated', 'A', 'U', 'PG-13', 'PG-13', 'UA', 'R', 'R', 'U', 'UA', 'R', 'R', 'UA', 'PG-13', 'R', 'N/A', 'UA', 'U/A 16+', 'UA', '18', 'UA', 'UA', '15+', 'A', '12+', 'UA', 'UA', 'UA', 'UA', 'UA 13+', 'A', 'U', 'A', 'UA', 'A', 'R', 'A', 'UA', 'U', 'A', '13', 'UA 13+', 'A', 'A', 'PG-13', '16', 'A', 'R', 'U', 'PG-13', 'A', 'A', '18', 'UA', '7', 'R', 'UA', 'UA 13+', 'A', 'UA', 'R', 'UA', 'R', 'PG-13', 'A', 'R', 'R', 'UA', 'A', 'UA 13+', 'A', 'Not Rated', 'UA', 'UA', 'UA', 'UA', 'A', 'PG', 'UA', 'UA 16+', 'UA', 'UA', 'PG-13', 'UA', 'U', 'UA', 'U', 'UA', 'UA', 'UA', '13', 'PG-13', 'A', '15+', 'U', 'A', 'UA', 'UA', 'UA', 'UA', '18', 'PG-13', 'A', 'A', 'PG-13', 'U', 'PG-13', 'PG-13', 'U', 'R', '16', 'UA', 'A', 'UA', 'UA', 'U', 'N/A', 'UA', 'A', 'R', 'PG-13', 'UA', 'UA', 'UA', 'UA', 'R', 'UA', 'PG-13', 'A', 'PG-13', 'UA', 'U', 'A', 'UA', 'U', 'UA', 'A', 'UA', 'UA', 'UA', 'UA', 'UA', 'U', 'U', 'UA', 'R', 'R', 'A', 'A', 'R', 'UA', 'PG-13', '16', 'All', 'UA', 'R', 'R', 'R', 'UA', 'UA', 'UA', 'PG-13', 'R', 'R', 'PG-13', 'PG-13', 'R', 'PG-13', 'U', 'PG-13', 'PG-13', 'UA', 'R', 'UA', 'A', 'A', 'UA', 'A', 'A', 'A', 'All', 'PG', 'A', 'UA', 'PG-13', 'UA', 'UA', 'R', 'A', 'A', 'UA', 'A', '16', 'A', 'UA', '16', 'A', 'UA', 'A', 'UA', 'U', 'A', 'A', 'UA', 'UA', 'R', 'A', 'PG-13', 'UA', 'N/A', '13', 'UA', 'UA', 'A', 'UA', 'UA', 'UA', 'UA', 'PG-13', '16', 'R', 'A', 'N/A', 'A', 'A', 'PG-13', 'U', 'UA', 'UA', 'A', 'R', 'A', 'PG-13', '18', 'U', 'U', 'PG', 'R', 'U', 'R', 'UA', 'A', 'R', 'UA', 'U', 'A', 'A', 'UA', 'A', 'UA', 'UA', 'UA', 'A', 'U', 'UA', 'UA', 'A', 'A', 'A', 'U', 'UA', 'PG-13', 'U', 'UA', 'U', 'N/A', 'A', 'N/A', 'UA', 'UA', 'A', 'UA', 'UA', 'UA', 'UA', 'R', 'UA', 'A', 'R', 'UA', 'UA', 'A', 'UA', 'UA', 'U', 'PG', 'A', 'Not Rated', 'U', 'UA', 'PG-13', 'R', 'UA', 'UA', 'UA', 'A', 'U', 'UA', 'U', 'U', 'PG-13', 'U', 'UA', 'PG-13', 'UA', 'U', 'PG', 'U', 'R', 'UA', 'UA', 'U', '16', '13', 'UA', 'N/A', 'R', 'R', 'UA', 'N/A', 'A', 'A', 'A', 'N/A', 'UA', 'UA', 'UA', 'U', 'U', 'UA', 'N/A', 'R', 'UA', 'U', 'UA', 'UA', 'UA', 'UA', 'U', 'UA', 'UA', 'PG-13', 'U', 'PG-13', 'R', 'U', 'PG-13', 'U', 'UA', 'UA', 'Not Rated', 'UA 16+', 'UA', 'R', 'U', 'PG-13', '13', 'U', 'U', 'UA', 'U', 'A', 'U', 'A', 'R', 'PG', 'UA', 'U', 'UA', 'U', 'UA', 'UA', 'U', 'R', 'UA', 'A', 'UA', 'PG-13', 'UA', 'U', 'U', 'A', 'A', 'UA', 'PG-13', 'U', 'PG-13', 'UA', 'U', 'U', 'UA', 'UA', 'N/A', 'UA', 'PG', 'PG-13', 'U', 'PG-13', 'U', 'UA', 'A', 'UA', 'UA', 'U', 'A', 'UA', 'UA 16+', 'A', 'N/A', 'A', 'UA', 'UA', 'N/A', 'N/A', '15+']\n"
     ]
    }
   ],
   "source": [
    "print(certification)"
   ]
  },
  {
   "cell_type": "code",
   "execution_count": 42,
   "id": "106a94c0",
   "metadata": {},
   "outputs": [
    {
     "data": {
      "text/html": [
       "<div>\n",
       "<style scoped>\n",
       "    .dataframe tbody tr th:only-of-type {\n",
       "        vertical-align: middle;\n",
       "    }\n",
       "\n",
       "    .dataframe tbody tr th {\n",
       "        vertical-align: top;\n",
       "    }\n",
       "\n",
       "    .dataframe thead th {\n",
       "        text-align: right;\n",
       "    }\n",
       "</style>\n",
       "<table border=\"1\" class=\"dataframe\">\n",
       "  <thead>\n",
       "    <tr style=\"text-align: right;\">\n",
       "      <th></th>\n",
       "      <th>Movie Name</th>\n",
       "      <th>Star 1</th>\n",
       "      <th>Star 2</th>\n",
       "      <th>Star 3</th>\n",
       "      <th>Star 4</th>\n",
       "      <th>Votes</th>\n",
       "      <th>Genre 1</th>\n",
       "      <th>Genre 2</th>\n",
       "      <th>Genre 3</th>\n",
       "      <th>Gross Collection</th>\n",
       "      <th>Certification</th>\n",
       "    </tr>\n",
       "  </thead>\n",
       "  <tbody>\n",
       "    <tr>\n",
       "      <th>0</th>\n",
       "      <td>The Dark Knight</td>\n",
       "      <td>Christian Bale</td>\n",
       "      <td>Heath Ledger</td>\n",
       "      <td>Aaron Eckhart</td>\n",
       "      <td>Michael Caine</td>\n",
       "      <td>2,747,425</td>\n",
       "      <td>Action</td>\n",
       "      <td>Crime</td>\n",
       "      <td>Drama</td>\n",
       "      <td>$534.86M</td>\n",
       "      <td>UA</td>\n",
       "    </tr>\n",
       "    <tr>\n",
       "      <th>1</th>\n",
       "      <td>The Lord of the Rings: The Return of the King</td>\n",
       "      <td>Elijah Wood</td>\n",
       "      <td>Viggo Mortensen</td>\n",
       "      <td>Ian McKellen</td>\n",
       "      <td>Orlando Bloom</td>\n",
       "      <td>1,901,482</td>\n",
       "      <td>Action</td>\n",
       "      <td>Adventure</td>\n",
       "      <td>Drama</td>\n",
       "      <td>$377.85M</td>\n",
       "      <td>U</td>\n",
       "    </tr>\n",
       "    <tr>\n",
       "      <th>2</th>\n",
       "      <td>Spider-Man: Across the Spider-Verse</td>\n",
       "      <td>Shameik Moore</td>\n",
       "      <td>Hailee Steinfeld</td>\n",
       "      <td>Brian Tyree Henry</td>\n",
       "      <td>Luna Lauren Velez</td>\n",
       "      <td>192,017</td>\n",
       "      <td>Animation</td>\n",
       "      <td>Action</td>\n",
       "      <td>Adventure</td>\n",
       "      <td>N/A</td>\n",
       "      <td>U</td>\n",
       "    </tr>\n",
       "    <tr>\n",
       "      <th>3</th>\n",
       "      <td>Inception</td>\n",
       "      <td>Leonardo DiCaprio</td>\n",
       "      <td>Joseph Gordon-Levitt</td>\n",
       "      <td>Elliot Page</td>\n",
       "      <td>Ken Watanabe</td>\n",
       "      <td>2,438,294</td>\n",
       "      <td>Action</td>\n",
       "      <td>Adventure</td>\n",
       "      <td>Sci-Fi</td>\n",
       "      <td>$292.58M</td>\n",
       "      <td>UA</td>\n",
       "    </tr>\n",
       "    <tr>\n",
       "      <th>4</th>\n",
       "      <td>The Lord of the Rings: The Fellowship of the Ring</td>\n",
       "      <td>Elijah Wood</td>\n",
       "      <td>Ian McKellen</td>\n",
       "      <td>Orlando Bloom</td>\n",
       "      <td>Sean Bean</td>\n",
       "      <td>1,929,812</td>\n",
       "      <td>Action</td>\n",
       "      <td>Adventure</td>\n",
       "      <td>Drama</td>\n",
       "      <td>$315.54M</td>\n",
       "      <td>U</td>\n",
       "    </tr>\n",
       "    <tr>\n",
       "      <th>...</th>\n",
       "      <td>...</td>\n",
       "      <td>...</td>\n",
       "      <td>...</td>\n",
       "      <td>...</td>\n",
       "      <td>...</td>\n",
       "      <td>...</td>\n",
       "      <td>...</td>\n",
       "      <td>...</td>\n",
       "      <td>...</td>\n",
       "      <td>...</td>\n",
       "      <td>...</td>\n",
       "    </tr>\n",
       "    <tr>\n",
       "      <th>1767</th>\n",
       "      <td>Radhe</td>\n",
       "      <td>Salman Khan</td>\n",
       "      <td>Disha Patani</td>\n",
       "      <td>Randeep Hooda</td>\n",
       "      <td>Jackie Shroff</td>\n",
       "      <td>179,076</td>\n",
       "      <td>Action</td>\n",
       "      <td>Crime</td>\n",
       "      <td>Thriller</td>\n",
       "      <td>N/A</td>\n",
       "      <td>UA</td>\n",
       "    </tr>\n",
       "    <tr>\n",
       "      <th>1768</th>\n",
       "      <td>Race 3</td>\n",
       "      <td>Anil Kapoor</td>\n",
       "      <td>Salman Khan</td>\n",
       "      <td>Bobby Deol</td>\n",
       "      <td>Jacqueline Fernandez</td>\n",
       "      <td>47,835</td>\n",
       "      <td>Action</td>\n",
       "      <td>Crime</td>\n",
       "      <td>Thriller</td>\n",
       "      <td>$1.69M</td>\n",
       "      <td>UA</td>\n",
       "    </tr>\n",
       "    <tr>\n",
       "      <th>1769</th>\n",
       "      <td>Angels Apocalypse</td>\n",
       "      <td>Enzo Zelocchi</td>\n",
       "      <td>Jana Rochelle</td>\n",
       "      <td>Ryan C.F. Buckley</td>\n",
       "      <td>William Kirkham</td>\n",
       "      <td>42,919</td>\n",
       "      <td>Action</td>\n",
       "      <td>Fantasy</td>\n",
       "      <td>Sci-Fi</td>\n",
       "      <td>N/A</td>\n",
       "      <td>N/A</td>\n",
       "    </tr>\n",
       "    <tr>\n",
       "      <th>1770</th>\n",
       "      <td>The Cost of Deception</td>\n",
       "      <td>Vivianne Bánovits</td>\n",
       "      <td>András Mózes</td>\n",
       "      <td>Barna Bokor</td>\n",
       "      <td>Gabriella Gubás</td>\n",
       "      <td>39,605</td>\n",
       "      <td>Action</td>\n",
       "      <td>Crime</td>\n",
       "      <td>Drama</td>\n",
       "      <td>N/A</td>\n",
       "      <td>N/A</td>\n",
       "    </tr>\n",
       "    <tr>\n",
       "      <th>1771</th>\n",
       "      <td>Sadak 2</td>\n",
       "      <td>Alia Bhatt</td>\n",
       "      <td>Priyanka Bose</td>\n",
       "      <td>Sanjay Dutt</td>\n",
       "      <td>Aditya Roy Kapoor</td>\n",
       "      <td>96,363</td>\n",
       "      <td>Action</td>\n",
       "      <td>Drama</td>\n",
       "      <td>N/A</td>\n",
       "      <td>N/A</td>\n",
       "      <td>15+</td>\n",
       "    </tr>\n",
       "  </tbody>\n",
       "</table>\n",
       "<p>1772 rows × 11 columns</p>\n",
       "</div>"
      ],
      "text/plain": [
       "                                             Movie Name              Star 1  \\\n",
       "0                                       The Dark Knight      Christian Bale   \n",
       "1         The Lord of the Rings: The Return of the King         Elijah Wood   \n",
       "2                   Spider-Man: Across the Spider-Verse       Shameik Moore   \n",
       "3                                             Inception   Leonardo DiCaprio   \n",
       "4     The Lord of the Rings: The Fellowship of the Ring         Elijah Wood   \n",
       "...                                                 ...                 ...   \n",
       "1767                                              Radhe         Salman Khan   \n",
       "1768                                             Race 3         Anil Kapoor   \n",
       "1769                                  Angels Apocalypse       Enzo Zelocchi   \n",
       "1770                              The Cost of Deception   Vivianne Bánovits   \n",
       "1771                                            Sadak 2          Alia Bhatt   \n",
       "\n",
       "                     Star 2              Star 3                 Star 4  \\\n",
       "0              Heath Ledger       Aaron Eckhart          Michael Caine   \n",
       "1           Viggo Mortensen        Ian McKellen          Orlando Bloom   \n",
       "2          Hailee Steinfeld   Brian Tyree Henry      Luna Lauren Velez   \n",
       "3      Joseph Gordon-Levitt         Elliot Page           Ken Watanabe   \n",
       "4              Ian McKellen       Orlando Bloom              Sean Bean   \n",
       "...                     ...                 ...                    ...   \n",
       "1767           Disha Patani       Randeep Hooda          Jackie Shroff   \n",
       "1768            Salman Khan          Bobby Deol   Jacqueline Fernandez   \n",
       "1769          Jana Rochelle   Ryan C.F. Buckley        William Kirkham   \n",
       "1770           András Mózes         Barna Bokor        Gabriella Gubás   \n",
       "1771          Priyanka Bose         Sanjay Dutt      Aditya Roy Kapoor   \n",
       "\n",
       "            Votes    Genre 1     Genre 2     Genre 3 Gross Collection  \\\n",
       "0      2,747,425      Action       Crime       Drama         $534.86M   \n",
       "1      1,901,482      Action   Adventure       Drama         $377.85M   \n",
       "2         192,017  Animation      Action   Adventure              N/A   \n",
       "3      2,438,294      Action   Adventure      Sci-Fi         $292.58M   \n",
       "4      1,929,812      Action   Adventure       Drama         $315.54M   \n",
       "...           ...        ...         ...         ...              ...   \n",
       "1767      179,076     Action       Crime    Thriller              N/A   \n",
       "1768      47,835      Action       Crime    Thriller           $1.69M   \n",
       "1769       42,919     Action     Fantasy      Sci-Fi              N/A   \n",
       "1770       39,605     Action       Crime       Drama              N/A   \n",
       "1771       96,363     Action       Drama         N/A              N/A   \n",
       "\n",
       "     Certification  \n",
       "0               UA  \n",
       "1                U  \n",
       "2                U  \n",
       "3               UA  \n",
       "4                U  \n",
       "...            ...  \n",
       "1767            UA  \n",
       "1768            UA  \n",
       "1769           N/A  \n",
       "1770           N/A  \n",
       "1771           15+  \n",
       "\n",
       "[1772 rows x 11 columns]"
      ]
     },
     "execution_count": 42,
     "metadata": {},
     "output_type": "execute_result"
    }
   ],
   "source": [
    "df_2=pd.DataFrame({'Movie Name':movie_name,'Star 1':star_1,'Star 2':star_2,'Star 3':star_3,'Star 4':star_4,'Votes':votes,'Genre 1':genre_1,'Genre 2':genre_2,'Genre 3':genre_3,'Gross Collection':gross_collection,'Certification':certification})\n",
    "df_2"
   ]
  },
  {
   "cell_type": "markdown",
   "id": "3c6e790c",
   "metadata": {},
   "source": [
    "## Saving the DataFrame to CSV Files."
   ]
  },
  {
   "cell_type": "code",
   "execution_count": 43,
   "id": "35af76ec",
   "metadata": {},
   "outputs": [],
   "source": [
    "df_1.to_csv(r\"C:\\Users\\Azeez Sharieff\\OneDrive\\Documents\\python practice\\Capstone Project\\IMDb_1.csv\",\n",
    "          index=False, header=True)"
   ]
  },
  {
   "cell_type": "code",
   "execution_count": 44,
   "id": "4a19ed66",
   "metadata": {},
   "outputs": [],
   "source": [
    "df_2.to_csv(r\"C:\\Users\\Azeez Sharieff\\OneDrive\\Documents\\python practice\\Capstone Project\\IMDb_2.csv\",\n",
    "          index=False, header=True)"
   ]
  },
  {
   "cell_type": "code",
   "execution_count": 45,
   "id": "b150ab73",
   "metadata": {},
   "outputs": [
    {
     "data": {
      "text/plain": [
       "(1772, 12)"
      ]
     },
     "execution_count": 45,
     "metadata": {},
     "output_type": "execute_result"
    }
   ],
   "source": [
    "df_1.shape"
   ]
  },
  {
   "cell_type": "code",
   "execution_count": 46,
   "id": "e2e99356",
   "metadata": {},
   "outputs": [
    {
     "data": {
      "text/plain": [
       "(1772, 11)"
      ]
     },
     "execution_count": 46,
     "metadata": {},
     "output_type": "execute_result"
    }
   ],
   "source": [
    "df_2.shape"
   ]
  },
  {
   "cell_type": "code",
   "execution_count": 47,
   "id": "8dc6e1b9",
   "metadata": {},
   "outputs": [],
   "source": [
    "driver.close()"
   ]
  },
  {
   "cell_type": "code",
   "execution_count": null,
   "id": "b4cc3715",
   "metadata": {},
   "outputs": [],
   "source": []
  }
 ],
 "metadata": {
  "kernelspec": {
   "display_name": "Python 3 (ipykernel)",
   "language": "python",
   "name": "python3"
  },
  "language_info": {
   "codemirror_mode": {
    "name": "ipython",
    "version": 3
   },
   "file_extension": ".py",
   "mimetype": "text/x-python",
   "name": "python",
   "nbconvert_exporter": "python",
   "pygments_lexer": "ipython3",
   "version": "3.9.12"
  }
 },
 "nbformat": 4,
 "nbformat_minor": 5
}
